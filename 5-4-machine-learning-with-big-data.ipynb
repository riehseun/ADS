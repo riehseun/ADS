{
 "cells": [
  {
   "cell_type": "markdown",
   "metadata": {},
   "source": [
    "# Machine learning with big data\n",
    "\n",
    "CRISP-DM (CRoss Industry Standard Process for Data Mining)\n",
    "- business understanding\n",
    "    - define problem \n",
    "    - formualte goals\n",
    "- data understanding\n",
    "    - data acquisition\n",
    "    - data exploration\n",
    "- data preparation\n",
    "    - address quality issues, select features to use, process data for modelling\n",
    "    - issues can include missing values, duplicate data, inconsistent data, outliers\n",
    "    - imputing: replace missing values with something reasonable\n",
    "        - mean, median, most frequent\n",
    "    - data wrangling\n",
    "        - feature selection\n",
    "            - add/remove/combine features\n",
    "        - feature transformation\n",
    "            - scaling\n",
    "            - pca \n",
    "                - pc1 captures the greatest variance\n",
    "                - pc2 captures the second greatest variance\n",
    "- modelling\n",
    "    - determine problem type\n",
    "    - select modelling technique\n",
    "    - build model\n",
    "        - traning\n",
    "            - model parameters are adjusted\n",
    "        - testing\n",
    "            - apply learned model\n",
    "- evaluation\n",
    "    - access model performance\n",
    "- deployment\n",
    "    - deploy and monitor model\n",
    "    \n",
    "## Classification\n",
    "\n",
    "kNN (k-nearest-neighbors)\n",
    "- probabilistic approach (computes probability of an event in the presence of another event)\n",
    "- k: number of nearest neighbors to consider \n",
    "\n",
    "Decision tree\n",
    "- split data into \"pure\" regions\n",
    "- when to stop splitting node?\n",
    "    - all sample have the same class label\n",
    "    - number of sample in node reaches the minimum\n",
    "    - maximum tree depth is reached\n",
    "- best split should be homogeneous\n",
    "    - impurity meature: Gini index\n",
    "\n",
    "Naive bayes\n",
    "- assumes that input features are statistically independent"
   ]
  },
  {
   "cell_type": "code",
   "execution_count": null,
   "metadata": {},
   "outputs": [],
   "source": []
  }
 ],
 "metadata": {
  "kernelspec": {
   "display_name": "Python 3",
   "language": "python",
   "name": "python3"
  },
  "language_info": {
   "codemirror_mode": {
    "name": "ipython",
    "version": 3
   },
   "file_extension": ".py",
   "mimetype": "text/x-python",
   "name": "python",
   "nbconvert_exporter": "python",
   "pygments_lexer": "ipython3",
   "version": "3.7.4"
  }
 },
 "nbformat": 4,
 "nbformat_minor": 2
}
