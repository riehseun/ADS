{
 "cells": [
  {
   "cell_type": "markdown",
   "metadata": {},
   "source": [
    "# Machine learning with big data\n",
    "\n",
    "CRISP-DM (CRoss Industry Standard Process for Data Mining)\n",
    "- business understanding\n",
    "    - define problem \n",
    "    - formualte goals\n",
    "- data understanding\n",
    "    - data acquisition\n",
    "    - data exploration\n",
    "- data preparation\n",
    "    - address quality issues, select features to use, process data for modelling\n",
    "- modelling\n",
    "    - determine problem type\n",
    "    - select modelling technique\n",
    "    - build model\n",
    "- evaluation\n",
    "    - access model performance\n",
    "- deployment\n",
    "    - deploy and monitor model"
   ]
  },
  {
   "cell_type": "code",
   "execution_count": null,
   "metadata": {},
   "outputs": [],
   "source": []
  }
 ],
 "metadata": {
  "kernelspec": {
   "display_name": "Python 3",
   "language": "python",
   "name": "python3"
  },
  "language_info": {
   "codemirror_mode": {
    "name": "ipython",
    "version": 3
   },
   "file_extension": ".py",
   "mimetype": "text/x-python",
   "name": "python",
   "nbconvert_exporter": "python",
   "pygments_lexer": "ipython3",
   "version": "3.7.4"
  }
 },
 "nbformat": 4,
 "nbformat_minor": 2
}
