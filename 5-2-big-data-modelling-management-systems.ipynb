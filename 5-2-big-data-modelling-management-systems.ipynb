{
 "cells": [
  {
   "cell_type": "markdown",
   "metadata": {},
   "source": [
    "# Big data modelling and mangement systems\n",
    "\n",
    "Data ingestion/storage/quality/operation\n",
    "\n",
    "Vector space model\n",
    "- ex) document vector using inverse document frequency\n",
    "- similarity function (cosine distance)\n",
    "- query term weighting\n",
    "\n",
    "Graph data model\n",
    "- find the shortest path between two nodes\n",
    "- find optimal round-trip path that must include some specific nodes \n",
    "- find best \"compromisable\" path while cannot meet all the requirements simultaneously (pareto optimality)\n",
    "- communities: clusters within the graph with lots of edges connecting nodes within\n",
    "\n"
   ]
  },
  {
   "cell_type": "code",
   "execution_count": null,
   "metadata": {},
   "outputs": [],
   "source": []
  }
 ],
 "metadata": {
  "kernelspec": {
   "display_name": "Python 3",
   "language": "python",
   "name": "python3"
  },
  "language_info": {
   "codemirror_mode": {
    "name": "ipython",
    "version": 3
   },
   "file_extension": ".py",
   "mimetype": "text/x-python",
   "name": "python",
   "nbconvert_exporter": "python",
   "pygments_lexer": "ipython3",
   "version": "3.7.4"
  }
 },
 "nbformat": 4,
 "nbformat_minor": 2
}
