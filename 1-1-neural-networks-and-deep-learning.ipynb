{
 "cells": [
  {
   "cell_type": "markdown",
   "metadata": {},
   "source": [
    "# Neural Networks and Deep Learning"
   ]
  },
  {
   "cell_type": "markdown",
   "metadata": {},
   "source": [
    "## Supervised learning\n",
    "\n",
    "Examples\n",
    "- home features -> price: **NN**\n",
    "- ad, user info -> click on ad? (0,1): **NN**\n",
    "- image -> object$(1\\dots1000)$: **CNN**\n",
    "- audio -> text transcript: **RNN**\n",
    "- english -> chinese: **RNN**\n",
    "- image, radar info -> position of other cars: **Hybrid**\n",
    "\n",
    "Data\n",
    "- structured data\n",
    "- unstructured data"
   ]
  },
  {
   "cell_type": "markdown",
   "metadata": {},
   "source": [
    "## Binary classification\n",
    "\n",
    "- $m$ training examples: $\\{(x^{(1)}, y^{(1)}), (x^{(2)}, y^{(2)}) \\dots (x^{(m)}, y^{(m)})\\}$\n",
    "\n",
    "$X = \n",
    "\\begin{bmatrix}\n",
    "    \\vdots & \\vdots \\ldots & \\vdots \\\\\n",
    "    \\vdots & \\vdots \\ldots & \\vdots \\\\ \n",
    "    X^{(1)} & X^{(2)} \\ldots & X^{(m)} \\\\\n",
    "    \\vdots & \\vdots \\ldots & \\vdots \\\\\n",
    "    \\vdots & \\vdots \\ldots & \\vdots \\\\ \n",
    "\\end{bmatrix}$\n",
    "\n",
    "- $X \\in {\\rm I\\!R^{n_{x}, m}}$\n",
    "- $X$.shape = $(n_{x}, m)$\n",
    "\n",
    "$Y = \n",
    "\\begin{bmatrix}\n",
    "    Y^{(1)} & Y^{(2)} \\ldots & Y^{(m)} \\\\\n",
    "\\end{bmatrix}$\n",
    "\n",
    "- $Y \\in {\\rm I\\!R^{1, m}}$\n",
    "- $Y$.shape = $(1, m)$"
   ]
  },
  {
   "cell_type": "code",
   "execution_count": null,
   "metadata": {},
   "outputs": [],
   "source": []
  }
 ],
 "metadata": {
  "kernelspec": {
   "display_name": "Python 3",
   "language": "python",
   "name": "python3"
  },
  "language_info": {
   "codemirror_mode": {
    "name": "ipython",
    "version": 3
   },
   "file_extension": ".py",
   "mimetype": "text/x-python",
   "name": "python",
   "nbconvert_exporter": "python",
   "pygments_lexer": "ipython3",
   "version": "3.7.4"
  }
 },
 "nbformat": 4,
 "nbformat_minor": 2
}
