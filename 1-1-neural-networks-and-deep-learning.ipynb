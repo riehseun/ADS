{
 "cells": [
  {
   "cell_type": "markdown",
   "metadata": {},
   "source": [
    "# Neural Networks and Deep Learning"
   ]
  },
  {
   "cell_type": "markdown",
   "metadata": {},
   "source": [
    "\n",
    "\n",
    "## Supervised learning\n",
    "\n",
    "Examples\n",
    "- home features -> price: **NN**\n",
    "- ad, user info -> click on ad? (0,1): **NN**\n",
    "- image -> object$(1\\dots1000)$: **CNN**\n",
    "- audio -> text transcript: **RNN**\n",
    "- english -> chinese: **RNN**\n",
    "- image, radar info -> position of other cars: **Hybrid**\n",
    "\n",
    "Data\n",
    "- structured data\n",
    "- unstructured data"
   ]
  },
  {
   "cell_type": "code",
   "execution_count": null,
   "metadata": {},
   "outputs": [],
   "source": []
  }
 ],
 "metadata": {
  "kernelspec": {
   "display_name": "Python 3",
   "language": "python",
   "name": "python3"
  },
  "language_info": {
   "codemirror_mode": {
    "name": "ipython",
    "version": 3
   },
   "file_extension": ".py",
   "mimetype": "text/x-python",
   "name": "python",
   "nbconvert_exporter": "python",
   "pygments_lexer": "ipython3",
   "version": "3.7.4"
  }
 },
 "nbformat": 4,
 "nbformat_minor": 2
}
