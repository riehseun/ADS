{
 "cells": [
  {
   "cell_type": "markdown",
   "metadata": {},
   "source": [
    "# PCA\n",
    "\n",
    "## Dot product\n",
    "\n",
    "$cos(\\theta) = \\dfrac{x^{T}y}{\\|x\\|\\|y\\|} = \\dfrac{<x,y>}{\\|x\\|\\|y\\|}$\n",
    "\n",
    "## Inner product\n",
    "\n",
    "- $x,y \\in V$\n",
    "- $<,>: V x V -> R$\n",
    "\n",
    "### Symmetric\n",
    "- $<x,y> = <y,x>$\n",
    "\n",
    "### Positive definite\n",
    "- $<x,x> \\ge 0$ and $<x,x> = 0$ iff $x = 0$\n",
    "\n",
    "### Bilinear\n",
    "- $x,y,z \\in V, \\lambda \\in R$\n",
    "- $<\\lambda x + z, y> = \\lambda<x,y> + <z,y>$\n",
    "- $<x, \\lambda y + z> = \\lambda<x,y> + <x,z>$\n",
    "\n",
    "## Length / Norm of a vector\n",
    "\n",
    "- $\\|x\\| = \\sqrt{<x,x>}$\n",
    "\n",
    "## Triangle inequality\n",
    "\n",
    "$\\|x+y\\| \\le \\|x\\| + \\|y\\|$\n",
    "\n",
    "## Distance\n",
    "\n",
    "$d(x,y) = \\|x-y\\| = \\sqrt{<x-y,x-y>}$\n",
    "\n",
    "## Projection onto 1D subspace\n",
    "\n",
    "Using two conditions\n",
    "- $\\Pi_{u}(x) \\in u => \\exists \\lambda \\in R: \\Pi_{u}(x) = \\lambda b$\n",
    "- $<b, \\Pi_{u}(x)-x>$ = 0\n",
    "\n",
    "Then\n",
    "- $\\Pi_{u}(x) = \\dfrac{bb^{T}}{\\|b\\|^{2}}x$\n",
    "\n",
    "## Projection onto higher dimensional subspace\n",
    "\n",
    "- $\\lambda = \\begin{pmatrix} \\lambda_{1} \\\\ \\vdots \\\\ \\lambda_{M}  \\end{pmatrix} (M \\times 1)$ \n",
    "- $B = \\begin{pmatrix} B_{1} | \\dots | B_{M} \\end{pmatrix} (D \\times M)$\n",
    "\n",
    "Then\n",
    "- $\\Pi_{u}(x) = B(B^{T}B)^{-1}B^{T}X$"
   ]
  },
  {
   "cell_type": "code",
   "execution_count": null,
   "metadata": {},
   "outputs": [],
   "source": []
  }
 ],
 "metadata": {
  "kernelspec": {
   "display_name": "Python 3",
   "language": "python",
   "name": "python3"
  },
  "language_info": {
   "codemirror_mode": {
    "name": "ipython",
    "version": 3
   },
   "file_extension": ".py",
   "mimetype": "text/x-python",
   "name": "python",
   "nbconvert_exporter": "python",
   "pygments_lexer": "ipython3",
   "version": "3.7.4"
  }
 },
 "nbformat": 4,
 "nbformat_minor": 2
}
