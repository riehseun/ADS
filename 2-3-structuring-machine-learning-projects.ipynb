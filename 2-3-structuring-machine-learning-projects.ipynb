{
 "cells": [
  {
   "cell_type": "markdown",
   "metadata": {},
   "source": [
    "# Structuring Machine Learning Projects\n",
    "\n",
    "## Introduction to ML strategy\n",
    "\n",
    "### Orthogonalization\n",
    "\n",
    "- fit training set well on cost function (bigger network, better optimization algorithm)\n",
    "- then, fit dev set well on cost function (regularization, bigger training set)\n",
    "- then, fit test set well on cost function (bigger dev set)\n",
    "- then, perform well in real world (change dev set or cost function)\n",
    "\n",
    "### Sinle number evaluation metric\n",
    "\n",
    "- precision: of examples recognized as cat, what % actually are cats?\n",
    "- recall: what % of actual cats are correctly recognized\n",
    "- F1 score: \"average\" of precision and recall\n",
    "    - $\\dfrac{2}{\\dfrac{1}{P}+\\dfrac{1}{R}}$\n",
    "\n",
    "### Satisfying and optimizaing metric\n",
    "\n",
    "- ex. maximize accuracy subject to running_time $\\le 100ms$\n",
    "- $N$ metrics: $1$ optimizing, $N-1$ satisfying"
   ]
  },
  {
   "cell_type": "code",
   "execution_count": null,
   "metadata": {},
   "outputs": [],
   "source": []
  }
 ],
 "metadata": {
  "kernelspec": {
   "display_name": "Python 3",
   "language": "python",
   "name": "python3"
  },
  "language_info": {
   "codemirror_mode": {
    "name": "ipython",
    "version": 3
   },
   "file_extension": ".py",
   "mimetype": "text/x-python",
   "name": "python",
   "nbconvert_exporter": "python",
   "pygments_lexer": "ipython3",
   "version": "3.7.4"
  }
 },
 "nbformat": 4,
 "nbformat_minor": 2
}
