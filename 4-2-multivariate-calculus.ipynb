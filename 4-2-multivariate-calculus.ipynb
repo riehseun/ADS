{
 "cells": [
  {
   "cell_type": "markdown",
   "metadata": {},
   "source": [
    "# Multivariate calculus\n",
    "\n",
    "$\\dfrac{\\partial f}{\\partial t} = \\dfrac{\\partial f}{\\partial x}\\dfrac{dx}{dt} + \\dfrac{\\partial f}{\\partial y}\\dfrac{dy}{dt}$ \n",
    "\n",
    "## Jacobian and Hessian\n",
    "\n",
    "let $u(x,y)$ and $v(x,y)$\n",
    "- then $J = \\begin{pmatrix} \\dfrac{\\partial u}{\\partial x} & \\dfrac{\\partial u}{\\partial y} \\\\ \\dfrac{\\partial v}{\\partial x} & \\dfrac{\\partial v}{\\partial y} \\end{pmatrix}$\n",
    "\n",
    "let $f(x,y,z)$\n",
    "- then $J = \\begin{pmatrix} \\dfrac{\\partial f}{\\partial x} & \\dfrac{\\partial f}{\\partial y} & \\dfrac{\\partial f}{\\partial z} \\end{pmatrix}$\n",
    "- then $H = \\begin{pmatrix} \\dfrac{\\partial^{2}f}{\\partial x^{2}} & \\dfrac{\\partial f}{\\partial x}\\dfrac{\\partial f}{\\partial y} & \\dfrac{\\partial f}{\\partial x}\\dfrac{\\partial f}{\\partial z} \\\\ \\dfrac{\\partial f}{\\partial y}\\dfrac{\\partial f}{\\partial x} & \\dfrac{\\partial^{2}f}{\\partial y^{2}} & \\dfrac{\\partial f}{\\partial y}\\dfrac{\\partial f}{\\partial z} \\\\ \\dfrac{\\partial f}{\\partial z}\\dfrac{\\partial f}{\\partial x} & \\dfrac{\\partial f}{\\partial z}\\dfrac{\\partial f}{\\partial y} & \\dfrac{\\partial^{2}f}{\\partial z^{2}} \\end{pmatrix}$\n",
    "\n",
    "## Power series\n",
    "\n",
    "$g(x) = a + bx + cx^{2} + dx^{3} + \\dots = \\displaystyle\\sum_{n=0}^{\\infty}\\dfrac{f^{n}(0)}{n!}x^{n}$ (Maclaurin series)\n",
    "- example: $e^{x} = \\displaystyle\\sum_{n=0}^{\\infty}\\dfrac{x^{n}}{n!}$\n",
    "\n",
    "$g(x) = \\displaystyle\\sum_{n=0}^{\\infty}\\dfrac{f^{n}(p)}{n!}(x-p)^{n}$\n",
    "- example: $cos(x) = 1 - \\dfrac{x^{2}}{2} + \\dfrac{x^{4}}{24} - \\dfrac{x^{6}}{720} + \\dots = \\displaystyle\\sum_{n=0}^{\\infty}\\dfrac{(-1)^{n}}{(2n)!}x^{2n}$\n",
    "- example: $\\dfrac{1}{x} = 1 - (x-1) + (x-1)^2 - (x-1)^3 + \\dots = \\displaystyle\\sum_{n=0}^{\\infty}(-1)^{n}(x-1)^{n}$ \n",
    "\n",
    "## Multivariate Taylor\n",
    "\n",
    "First rewrite the expression such that\n",
    "- $f(x+\\Delta{x}) = \\displaystyle\\sum_{n=0}^{\\infty}\\dfrac{f^{n}(x)}{n!}\\Delta{x}^{n}$\n",
    "\n",
    "Then\n",
    "- $f(x+\\Delta{x}, y+\\Delta{y}) = f(x,y) + \\dfrac{\\partial f(x,y)}{\\partial x}\\Delta{x} + \\dfrac{\\partial f(x,y)}{\\partial y}\\Delta{y} + \\dfrac{1}{2}\\left(\\dfrac{\\partial^{2}f(x,y)}{\\partial x^{2}}\\Delta{x}^{2} + 2\\dfrac{\\partial f(x,y)}{\\partial x \\partial y}\\Delta{x}\\Delta{y} + \\dfrac{\\partial^{2}f(x,y)}{\\partial y^{2}}\\Delta{y}^{2}\\right) + \\dots = f(x,y) + J_{f}\\Delta{x} + \\dfrac{1}{2}\\Delta{x}^{t}H_{f}\\Delta{x} + \\dots$"
   ]
  },
  {
   "cell_type": "code",
   "execution_count": null,
   "metadata": {},
   "outputs": [],
   "source": []
  }
 ],
 "metadata": {
  "kernelspec": {
   "display_name": "Python 3",
   "language": "python",
   "name": "python3"
  },
  "language_info": {
   "codemirror_mode": {
    "name": "ipython",
    "version": 3
   },
   "file_extension": ".py",
   "mimetype": "text/x-python",
   "name": "python",
   "nbconvert_exporter": "python",
   "pygments_lexer": "ipython3",
   "version": "3.7.4"
  }
 },
 "nbformat": 4,
 "nbformat_minor": 2
}
