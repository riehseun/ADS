{
 "cells": [
  {
   "cell_type": "markdown",
   "metadata": {},
   "source": [
    "# Convolutional neural network"
   ]
  },
  {
   "cell_type": "markdown",
   "metadata": {},
   "source": [
    "## Edge detection\n",
    "\n",
    "- ex. 6x6 image * (convolve) 3x3 filter = 4x4 image\n",
    "- vertical edge detection: use filters such as\n",
    "\n",
    "$\\left(\\begin{array}{ccc}\n",
    "  {1} & 0 & {1}\\\\\n",
    "  0  & 1 & 0 \\\\\n",
    "  {1} & 0 & {1}\n",
    "\\end{array}\\right)$\n",
    "\n",
    "$\\left(\\begin{array}{ccc}\n",
    "  {1} & 0 & {-1}\\\\\n",
    "  2  & 0 & -2 \\\\\n",
    "  {1} & 0 & {-1}\n",
    "\\end{array}\\right)$ (Sobel filter)\n",
    "\n",
    "$\\left(\\begin{array}{ccc}\n",
    "  {3} & 0 & {-3}\\\\\n",
    "  10  & 0 & -10 \\\\\n",
    "  {3} & 0 & {-3}\n",
    "\\end{array}\\right)$ (Schors filter)\n",
    "\n",
    "- vertical edge detection: use filters such as\n",
    "\n",
    "$\\left(\\begin{array}{ccc}\n",
    "  {1} & 1 & {1}\\\\\n",
    "  0  & 0 & 0 \\\\\n",
    "  {-1} & -1 & {-1}\n",
    "\\end{array}\\right)$\n",
    "\n",
    "- $n$x$n * f$x$f = (n-f+1)$x$(n-f+1)$\n",
    "\n",
    "## Padding\n",
    "\n",
    "- avoids shrinking output and throwing away information from edges\n",
    "- $n$x$n * f$x$f = (n+2p-f+1)$x$(n+2p-f+1)$\n",
    "- \"valid\": no padding\n",
    "- \"same\": pad so that output size is the same as the input size\n",
    "    - $p = \\dfrac{f-1}{2}$ ($f$ is usually odd)\n",
    "\n"
   ]
  },
  {
   "cell_type": "code",
   "execution_count": null,
   "metadata": {},
   "outputs": [],
   "source": []
  }
 ],
 "metadata": {
  "kernelspec": {
   "display_name": "Python 3",
   "language": "python",
   "name": "python3"
  },
  "language_info": {
   "codemirror_mode": {
    "name": "ipython",
    "version": 3
   },
   "file_extension": ".py",
   "mimetype": "text/x-python",
   "name": "python",
   "nbconvert_exporter": "python",
   "pygments_lexer": "ipython3",
   "version": "3.7.4"
  }
 },
 "nbformat": 4,
 "nbformat_minor": 2
}
