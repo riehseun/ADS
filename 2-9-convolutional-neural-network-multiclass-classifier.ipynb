{
 "cells": [
  {
   "cell_type": "code",
   "execution_count": 1,
   "metadata": {},
   "outputs": [],
   "source": [
    "import csv\n",
    "import numpy as np\n",
    "import tensorflow as tf\n",
    "from tensorflow.keras.preprocessing.image import ImageDataGenerator"
   ]
  },
  {
   "cell_type": "code",
   "execution_count": 2,
   "metadata": {},
   "outputs": [
    {
     "name": "stdout",
     "output_type": "stream",
     "text": [
      "(27455, 28, 28)\n",
      "(27455,)\n",
      "(7172, 28, 28)\n",
      "(7172,)\n"
     ]
    }
   ],
   "source": [
    "def get_data(filename):\n",
    "    with open(filename) as training_file:\n",
    "        csv_reader = csv.reader(training_file, delimiter=',')\n",
    "        first_line = True\n",
    "        temp_images = []\n",
    "        temp_labels = []\n",
    "        for row in csv_reader:\n",
    "            if first_line:\n",
    "                # print(\"Ignoring first line\")\n",
    "                first_line = False\n",
    "            else:\n",
    "                temp_labels.append(row[0])\n",
    "                image_data = row[1:785]\n",
    "                image_data_as_array = np.array_split(image_data, 28)\n",
    "                temp_images.append(image_data_as_array)\n",
    "        images = np.array(temp_images).astype('float')\n",
    "        labels = np.array(temp_labels).astype('float')\n",
    "    return images, labels\n",
    "\n",
    "\n",
    "training_images, training_labels = get_data('large/convolutional-neural-network/sign-language-mnist/sign_mnist_train.csv')\n",
    "testing_images, testing_labels = get_data('large/convolutional-neural-network/sign-language-mnist/sign_mnist_test.csv')\n",
    "\n",
    "print(training_images.shape)\n",
    "print(training_labels.shape)\n",
    "print(testing_images.shape)\n",
    "print(testing_labels.shape)"
   ]
  },
  {
   "cell_type": "code",
   "execution_count": 3,
   "metadata": {},
   "outputs": [
    {
     "name": "stdout",
     "output_type": "stream",
     "text": [
      "(27455, 28, 28, 1)\n",
      "(7172, 28, 28, 1)\n"
     ]
    }
   ],
   "source": [
    "training_images = np.expand_dims(training_images, axis=3)\n",
    "testing_images = np.expand_dims(testing_images, axis=3)\n",
    "\n",
    "train_datagen = ImageDataGenerator(\n",
    "    rescale=1. / 255,\n",
    "    rotation_range=40,\n",
    "    width_shift_range=0.2,\n",
    "    height_shift_range=0.2,\n",
    "    shear_range=0.2,\n",
    "    zoom_range=0.2,\n",
    "    horizontal_flip=True,\n",
    "    fill_mode='nearest')\n",
    "\n",
    "validation_datagen = ImageDataGenerator(\n",
    "    rescale=1. / 255)\n",
    "\n",
    "print(training_images.shape)\n",
    "print(testing_images.shape)"
   ]
  },
  {
   "cell_type": "code",
   "execution_count": 4,
   "metadata": {},
   "outputs": [
    {
     "name": "stdout",
     "output_type": "stream",
     "text": [
      "WARNING:tensorflow:sample_weight modes were coerced from\n",
      "  ...\n",
      "    to  \n",
      "  ['...']\n",
      "WARNING:tensorflow:sample_weight modes were coerced from\n",
      "  ...\n",
      "    to  \n",
      "  ['...']\n",
      "Train for 857.96875 steps, validate for 224.125 steps\n",
      "Epoch 1/15\n",
      "858/857 [==============================] - 34s 39ms/step - loss: 2.8930 - accuracy: 0.1278 - val_loss: 2.0711 - val_accuracy: 0.3398\n",
      "Epoch 2/15\n",
      "858/857 [==============================] - 35s 41ms/step - loss: 2.1648 - accuracy: 0.3184 - val_loss: 1.7629 - val_accuracy: 0.4278\n",
      "Epoch 3/15\n",
      "858/857 [==============================] - 36s 42ms/step - loss: 1.8041 - accuracy: 0.4232 - val_loss: 1.3869 - val_accuracy: 0.5431\n",
      "Epoch 4/15\n",
      "858/857 [==============================] - 36s 42ms/step - loss: 1.5498 - accuracy: 0.5023 - val_loss: 0.9978 - val_accuracy: 0.6577\n",
      "Epoch 5/15\n",
      "858/857 [==============================] - 36s 42ms/step - loss: 1.3879 - accuracy: 0.5491 - val_loss: 0.8873 - val_accuracy: 0.6956\n",
      "Epoch 6/15\n",
      "858/857 [==============================] - 36s 42ms/step - loss: 1.2687 - accuracy: 0.5848 - val_loss: 0.7861 - val_accuracy: 0.7142\n",
      "Epoch 7/15\n",
      "858/857 [==============================] - 36s 42ms/step - loss: 1.1626 - accuracy: 0.6163 - val_loss: 0.6694 - val_accuracy: 0.7566\n",
      "Epoch 8/15\n",
      "858/857 [==============================] - 38s 44ms/step - loss: 1.0815 - accuracy: 0.6421 - val_loss: 0.5819 - val_accuracy: 0.7876\n",
      "Epoch 9/15\n",
      "858/857 [==============================] - 40s 46ms/step - loss: 1.0123 - accuracy: 0.6655 - val_loss: 0.5440 - val_accuracy: 0.7982\n",
      "Epoch 10/15\n",
      "858/857 [==============================] - 41s 47ms/step - loss: 0.9588 - accuracy: 0.6837 - val_loss: 0.5346 - val_accuracy: 0.8316\n",
      "Epoch 11/15\n",
      "858/857 [==============================] - 41s 48ms/step - loss: 0.9137 - accuracy: 0.6964 - val_loss: 0.4937 - val_accuracy: 0.8160\n",
      "Epoch 12/15\n",
      "858/857 [==============================] - 42s 49ms/step - loss: 0.8613 - accuracy: 0.7108 - val_loss: 0.5157 - val_accuracy: 0.8356\n",
      "Epoch 13/15\n",
      "858/857 [==============================] - 43s 50ms/step - loss: 0.8339 - accuracy: 0.7217 - val_loss: 0.4894 - val_accuracy: 0.8349\n",
      "Epoch 14/15\n",
      "858/857 [==============================] - 45s 52ms/step - loss: 0.7958 - accuracy: 0.7305 - val_loss: 0.3826 - val_accuracy: 0.8641\n",
      "Epoch 15/15\n",
      "858/857 [==============================] - 45s 53ms/step - loss: 0.7673 - accuracy: 0.7427 - val_loss: 0.3401 - val_accuracy: 0.8813\n",
      "7172/7172 [==============================] - 5s 636us/sample - loss: 177.0745 - accuracy: 0.6327 - loss: 175.901\n"
     ]
    },
    {
     "data": {
      "text/plain": [
       "[177.07449859942528, 0.6327384]"
      ]
     },
     "execution_count": 4,
     "metadata": {},
     "output_type": "execute_result"
    }
   ],
   "source": [
    "model = tf.keras.models.Sequential([\n",
    "    tf.keras.layers.Conv2D(64, (3, 3), activation='relu', input_shape=(28, 28, 1)),\n",
    "    tf.keras.layers.MaxPooling2D(2, 2),\n",
    "    tf.keras.layers.Conv2D(64, (3, 3), activation='relu'),\n",
    "    tf.keras.layers.MaxPooling2D(2, 2),\n",
    "    tf.keras.layers.Flatten(),\n",
    "    tf.keras.layers.Dense(128, activation=tf.nn.relu),\n",
    "    tf.keras.layers.Dense(26, activation=tf.nn.softmax)])\n",
    "\n",
    "model.compile(optimizer = tf.optimizers.Adam(),\n",
    "              loss = 'sparse_categorical_crossentropy',\n",
    "              metrics=['accuracy'])\n",
    "\n",
    "history = model.fit(train_datagen.flow(training_images, training_labels, batch_size=32),\n",
    "                              steps_per_epoch=len(training_images) / 32,\n",
    "                              epochs=15,\n",
    "                              validation_data=validation_datagen.flow(testing_images, testing_labels, batch_size=32),\n",
    "                              validation_steps=len(testing_images) / 32)\n",
    "\n",
    "model.evaluate(testing_images, testing_labels)"
   ]
  },
  {
   "cell_type": "code",
   "execution_count": 5,
   "metadata": {},
   "outputs": [
    {
     "data": {
      "text/plain": [
       "<Figure size 640x480 with 1 Axes>"
      ]
     },
     "metadata": {},
     "output_type": "display_data"
    },
    {
     "data": {
      "text/plain": [
       "<Figure size 640x480 with 1 Axes>"
      ]
     },
     "metadata": {},
     "output_type": "display_data"
    }
   ],
   "source": [
    "import matplotlib.pyplot as plt\n",
    "acc = history.history['accuracy']\n",
    "val_acc = history.history['val_accuracy']\n",
    "loss = history.history['loss']\n",
    "val_loss = history.history['val_loss']\n",
    "\n",
    "epochs = range(len(acc))\n",
    "\n",
    "plt.plot(epochs, acc, 'r', label='Training accuracy')\n",
    "plt.plot(epochs, val_acc, 'b', label='Validation accuracy')\n",
    "plt.title('Training and validation accuracy')\n",
    "plt.legend()\n",
    "plt.figure()\n",
    "\n",
    "plt.plot(epochs, loss, 'r', label='Training Loss')\n",
    "plt.plot(epochs, val_loss, 'b', label='Validation Loss')\n",
    "plt.title('Training and validation loss')\n",
    "plt.legend()\n",
    "\n",
    "plt.show()"
   ]
  }
 ],
 "metadata": {
  "kernelspec": {
   "display_name": "Python 3",
   "language": "python",
   "name": "python3"
  },
  "language_info": {
   "codemirror_mode": {
    "name": "ipython",
    "version": 3
   },
   "file_extension": ".py",
   "mimetype": "text/x-python",
   "name": "python",
   "nbconvert_exporter": "python",
   "pygments_lexer": "ipython3",
   "version": "3.7.4"
  }
 },
 "nbformat": 4,
 "nbformat_minor": 2
}
