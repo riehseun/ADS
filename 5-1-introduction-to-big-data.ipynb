{
 "cells": [
  {
   "cell_type": "markdown",
   "metadata": {},
   "source": [
    "# Introduction to big data\n",
    "\n",
    "Workflow for working with big data\n",
    "- Big data -> better models -> higher precision\n",
    "\n",
    "Process of using data streams\n",
    "- Integration -> personalization -> precision\n",
    "\n",
    "Three types of data sources\n",
    "- Machine, people, organization\n",
    "- People data is hard to process because velocity of data is fast and they tend to be very unstructured\n",
    "\n",
    "Data silos\n",
    "- Data spread out between departments within an organization\n",
    "- Bad because they are unsynchronized and invisible data\n",
    "\n",
    "Characteristics of Big Data\n",
    "- Volumn: sheer size of data\n",
    "- Variety: structural (ex. formats) / media (ex. how data is delivered) / semantic (ex. units) / availability (ex. real-time)"
   ]
  }
 ],
 "metadata": {
  "kernelspec": {
   "display_name": "Python 3",
   "language": "python",
   "name": "python3"
  },
  "language_info": {
   "codemirror_mode": {
    "name": "ipython",
    "version": 3
   },
   "file_extension": ".py",
   "mimetype": "text/x-python",
   "name": "python",
   "nbconvert_exporter": "python",
   "pygments_lexer": "ipython3",
   "version": "3.7.4"
  }
 },
 "nbformat": 4,
 "nbformat_minor": 4
}
