{
 "cells": [
  {
   "cell_type": "markdown",
   "metadata": {},
   "source": [
    "# Big data integration and processing\n",
    "\n",
    "Data modelling\n",
    "- tells how data is structured and what operations can be done\n",
    "- relational, semi-structured, graph, text\n",
    "\n",
    "BDMS\n",
    "- designed for parallel and distributed processing \n",
    "- may not guarantee consistency (most likely supports eventual consistency)\n",
    "- often built on Hadoop\n",
    "\n",
    "Requirement of BDMS\n",
    "- support big data operations (split volumns of data, access data fast, distribute computations to nodes)\n",
    "- handle fault tolerance (replicate data partitions, recover files when needed)\n",
    "- enable scaling out\n",
    "- optimized and extensible for many data types\n",
    "- enable both streaming and batch processing (low latency and accuracy)\n",
    "\n",
    "Querying\n",
    "- EX1\n",
    "    - SQL: SELECT * FROM Beers\n",
    "    - MongoDB: db.Beers.find()\n",
    "- EX2\n",
    "    - SQL: SELECT beer, price FROM Sells\n",
    "    - MongoDB: db.Sells.find({}, {beer:1, price:1})\n",
    "- EX3\n",
    "    - SQL: SELECT manf FROM Beers WHERE name = \"Heineken\"\n",
    "    - MongoDB: db.Beers.find({name: \"Heineken\"}, {manf:1, _id:0})\n",
    "- EX4\n",
    "    - SQL: SELECT DISTINCT beer, price FROM Sells WHERE price > 15\n",
    "    - MongoDB: db.Sells.distinct({price:{$gt>15}}, {beer:1, price:1, _id:0})\n",
    "- EX5: count the number of manufacturers whose names have the partial string \"am\" in it (case insensitive) \n",
    "    - MongoDB: db.Beers.find(name: {$regex:/^am/i}).count()\n",
    "- EX6: count the number of manufacturers whose names starts with \"am\" and ends with corp\"\" \n",
    "    - MongoDB: db.Beers.find(name: {$regex:/^am.*corp$/}).count()\n",
    "- EX7: find items which are tagged as \"popular\" or \"organic\"\n",
    "    - MongoDB: db.inventory.find({tags: {$in: [\"popular\", \"organic\"]}})\n",
    "- EX8: find items which are not tagged as \"popular\" or \"organic\"\n",
    "    - MongoDB: db.inventory.find({tags: {$nin: [\"popular\", \"organic\"]}})\n",
    "- EX9: find 2nd and 3rd element of tags\n",
    "    - MongoDB: db.inventory.find({}, {tags: {$slice: [1,2]}})\n",
    "- EX10: find a document whose 2nd element in tags is \"summer\"\n",
    "    - MongoDB: db.inventory.find(tags.1: \"summer\")"
   ]
  },
  {
   "cell_type": "code",
   "execution_count": null,
   "metadata": {},
   "outputs": [],
   "source": []
  }
 ],
 "metadata": {
  "kernelspec": {
   "display_name": "Python 3",
   "language": "python",
   "name": "python3"
  },
  "language_info": {
   "codemirror_mode": {
    "name": "ipython",
    "version": 3
   },
   "file_extension": ".py",
   "mimetype": "text/x-python",
   "name": "python",
   "nbconvert_exporter": "python",
   "pygments_lexer": "ipython3",
   "version": "3.7.4"
  }
 },
 "nbformat": 4,
 "nbformat_minor": 2
}
