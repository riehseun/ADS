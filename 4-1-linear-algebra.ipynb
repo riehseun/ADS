{
 "cells": [
  {
   "cell_type": "markdown",
   "metadata": {},
   "source": [
    "# Mathematics for machine learning - linear algebra\n",
    "\n",
    "$f(x) = \\dfrac{1}{\\sigma\\sqrt{2\\pi}}exp\\left[\\dfrac{-(x-\\mu)^{2}}{2\\sigma^{2}}\\right]$\n",
    "\n",
    "Consider $\\begin{bmatrix}\n",
    "  \\mu \\\\\n",
    "  \\sigma \\\\\n",
    "\\end{bmatrix}$ as vectors\n",
    "\n",
    "For two vectors $r = \\begin{bmatrix}\n",
    "  r_{i} \\\\\n",
    "  r_{j} \\\\\n",
    "\\end{bmatrix}$ and $s = \\begin{bmatrix}\n",
    "  s_{i} \\\\\n",
    "  s_{j} \\\\\n",
    "\\end{bmatrix}$ \n",
    "\n",
    "$|r| = \\sqrt{a^{2}+b^{2}}$\n",
    "\n",
    "$r \\cdot s = r_{i}s_{i} + r_{j}s_{j}$ \n",
    "\n",
    "$r \\cdot s = s \\cdot r$ (communitive)\n",
    "\n",
    "$r \\cdot (s+t) = r \\cdot s + r \\cdot t$ (distributive)\n",
    "\n",
    "$r \\cdot (as) = a(r \\cdot \\ s)$ (associative)"
   ]
  },
  {
   "cell_type": "code",
   "execution_count": null,
   "metadata": {},
   "outputs": [],
   "source": []
  }
 ],
 "metadata": {
  "kernelspec": {
   "display_name": "Python 3",
   "language": "python",
   "name": "python3"
  },
  "language_info": {
   "codemirror_mode": {
    "name": "ipython",
    "version": 3
   },
   "file_extension": ".py",
   "mimetype": "text/x-python",
   "name": "python",
   "nbconvert_exporter": "python",
   "pygments_lexer": "ipython3",
   "version": "3.7.4"
  }
 },
 "nbformat": 4,
 "nbformat_minor": 2
}
